{
  "nbformat": 4,
  "nbformat_minor": 0,
  "metadata": {
    "colab": {
      "provenance": [],
      "include_colab_link": true
    },
    "kernelspec": {
      "name": "python3",
      "display_name": "Python 3"
    },
    "language_info": {
      "name": "python"
    }
  },
  "cells": [
    {
      "cell_type": "markdown",
      "metadata": {
        "id": "view-in-github",
        "colab_type": "text"
      },
      "source": [
        "<a href=\"https://colab.research.google.com/github/Karame12/Projects/blob/main/K_means_Clustering.ipynb\" target=\"_parent\"><img src=\"https://colab.research.google.com/assets/colab-badge.svg\" alt=\"Open In Colab\"/></a>"
      ]
    },
    {
      "cell_type": "markdown",
      "source": [
        "## K_Means Clustering:"
      ],
      "metadata": {
        "id": "5fUuhME0dQ6w"
      }
    },
    {
      "cell_type": "code",
      "execution_count": null,
      "metadata": {
        "colab": {
          "base_uri": "https://localhost:8080/",
          "height": 206
        },
        "id": "T-C_WHIaTYeC",
        "outputId": "a0f17e6b-97c0-4965-f08b-c4002c0f13dc"
      },
      "outputs": [
        {
          "output_type": "execute_result",
          "data": {
            "text/plain": [
              "   Rate    Len  Adt  Trks  Slim  Lwid  Shld   Itg  Sigs  Acpt  Lane  Fai  Pa  \\\n",
              "0  4.58   4.99   69     8    55    12    10  1.20   0.0   4.6     8    1   0   \n",
              "1  2.86  16.11   73     8    60    12    10  1.43   0.0   4.4     4    1   0   \n",
              "2  3.02   9.75   49    10    60    12    10  1.54   0.0   4.7     4    1   0   \n",
              "3  2.29  10.65   61    13    65    12    10  0.94   0.0   3.8     6    1   0   \n",
              "4  1.61  20.01   28    12    70    12    10  0.65   0.0   2.2     4    1   0   \n",
              "\n",
              "   Ma  \n",
              "0   0  \n",
              "1   0  \n",
              "2   0  \n",
              "3   0  \n",
              "4   0  "
            ],
            "text/html": [
              "\n",
              "  <div id=\"df-5e9d7a1b-cf83-48df-be76-2ee3096e154d\" class=\"colab-df-container\">\n",
              "    <div>\n",
              "<style scoped>\n",
              "    .dataframe tbody tr th:only-of-type {\n",
              "        vertical-align: middle;\n",
              "    }\n",
              "\n",
              "    .dataframe tbody tr th {\n",
              "        vertical-align: top;\n",
              "    }\n",
              "\n",
              "    .dataframe thead th {\n",
              "        text-align: right;\n",
              "    }\n",
              "</style>\n",
              "<table border=\"1\" class=\"dataframe\">\n",
              "  <thead>\n",
              "    <tr style=\"text-align: right;\">\n",
              "      <th></th>\n",
              "      <th>Rate</th>\n",
              "      <th>Len</th>\n",
              "      <th>Adt</th>\n",
              "      <th>Trks</th>\n",
              "      <th>Slim</th>\n",
              "      <th>Lwid</th>\n",
              "      <th>Shld</th>\n",
              "      <th>Itg</th>\n",
              "      <th>Sigs</th>\n",
              "      <th>Acpt</th>\n",
              "      <th>Lane</th>\n",
              "      <th>Fai</th>\n",
              "      <th>Pa</th>\n",
              "      <th>Ma</th>\n",
              "    </tr>\n",
              "  </thead>\n",
              "  <tbody>\n",
              "    <tr>\n",
              "      <th>0</th>\n",
              "      <td>4.58</td>\n",
              "      <td>4.99</td>\n",
              "      <td>69</td>\n",
              "      <td>8</td>\n",
              "      <td>55</td>\n",
              "      <td>12</td>\n",
              "      <td>10</td>\n",
              "      <td>1.20</td>\n",
              "      <td>0.0</td>\n",
              "      <td>4.6</td>\n",
              "      <td>8</td>\n",
              "      <td>1</td>\n",
              "      <td>0</td>\n",
              "      <td>0</td>\n",
              "    </tr>\n",
              "    <tr>\n",
              "      <th>1</th>\n",
              "      <td>2.86</td>\n",
              "      <td>16.11</td>\n",
              "      <td>73</td>\n",
              "      <td>8</td>\n",
              "      <td>60</td>\n",
              "      <td>12</td>\n",
              "      <td>10</td>\n",
              "      <td>1.43</td>\n",
              "      <td>0.0</td>\n",
              "      <td>4.4</td>\n",
              "      <td>4</td>\n",
              "      <td>1</td>\n",
              "      <td>0</td>\n",
              "      <td>0</td>\n",
              "    </tr>\n",
              "    <tr>\n",
              "      <th>2</th>\n",
              "      <td>3.02</td>\n",
              "      <td>9.75</td>\n",
              "      <td>49</td>\n",
              "      <td>10</td>\n",
              "      <td>60</td>\n",
              "      <td>12</td>\n",
              "      <td>10</td>\n",
              "      <td>1.54</td>\n",
              "      <td>0.0</td>\n",
              "      <td>4.7</td>\n",
              "      <td>4</td>\n",
              "      <td>1</td>\n",
              "      <td>0</td>\n",
              "      <td>0</td>\n",
              "    </tr>\n",
              "    <tr>\n",
              "      <th>3</th>\n",
              "      <td>2.29</td>\n",
              "      <td>10.65</td>\n",
              "      <td>61</td>\n",
              "      <td>13</td>\n",
              "      <td>65</td>\n",
              "      <td>12</td>\n",
              "      <td>10</td>\n",
              "      <td>0.94</td>\n",
              "      <td>0.0</td>\n",
              "      <td>3.8</td>\n",
              "      <td>6</td>\n",
              "      <td>1</td>\n",
              "      <td>0</td>\n",
              "      <td>0</td>\n",
              "    </tr>\n",
              "    <tr>\n",
              "      <th>4</th>\n",
              "      <td>1.61</td>\n",
              "      <td>20.01</td>\n",
              "      <td>28</td>\n",
              "      <td>12</td>\n",
              "      <td>70</td>\n",
              "      <td>12</td>\n",
              "      <td>10</td>\n",
              "      <td>0.65</td>\n",
              "      <td>0.0</td>\n",
              "      <td>2.2</td>\n",
              "      <td>4</td>\n",
              "      <td>1</td>\n",
              "      <td>0</td>\n",
              "      <td>0</td>\n",
              "    </tr>\n",
              "  </tbody>\n",
              "</table>\n",
              "</div>\n",
              "    <div class=\"colab-df-buttons\">\n",
              "\n",
              "  <div class=\"colab-df-container\">\n",
              "    <button class=\"colab-df-convert\" onclick=\"convertToInteractive('df-5e9d7a1b-cf83-48df-be76-2ee3096e154d')\"\n",
              "            title=\"Convert this dataframe to an interactive table.\"\n",
              "            style=\"display:none;\">\n",
              "\n",
              "  <svg xmlns=\"http://www.w3.org/2000/svg\" height=\"24px\" viewBox=\"0 -960 960 960\">\n",
              "    <path d=\"M120-120v-720h720v720H120Zm60-500h600v-160H180v160Zm220 220h160v-160H400v160Zm0 220h160v-160H400v160ZM180-400h160v-160H180v160Zm440 0h160v-160H620v160ZM180-180h160v-160H180v160Zm440 0h160v-160H620v160Z\"/>\n",
              "  </svg>\n",
              "    </button>\n",
              "\n",
              "  <style>\n",
              "    .colab-df-container {\n",
              "      display:flex;\n",
              "      gap: 12px;\n",
              "    }\n",
              "\n",
              "    .colab-df-convert {\n",
              "      background-color: #E8F0FE;\n",
              "      border: none;\n",
              "      border-radius: 50%;\n",
              "      cursor: pointer;\n",
              "      display: none;\n",
              "      fill: #1967D2;\n",
              "      height: 32px;\n",
              "      padding: 0 0 0 0;\n",
              "      width: 32px;\n",
              "    }\n",
              "\n",
              "    .colab-df-convert:hover {\n",
              "      background-color: #E2EBFA;\n",
              "      box-shadow: 0px 1px 2px rgba(60, 64, 67, 0.3), 0px 1px 3px 1px rgba(60, 64, 67, 0.15);\n",
              "      fill: #174EA6;\n",
              "    }\n",
              "\n",
              "    .colab-df-buttons div {\n",
              "      margin-bottom: 4px;\n",
              "    }\n",
              "\n",
              "    [theme=dark] .colab-df-convert {\n",
              "      background-color: #3B4455;\n",
              "      fill: #D2E3FC;\n",
              "    }\n",
              "\n",
              "    [theme=dark] .colab-df-convert:hover {\n",
              "      background-color: #434B5C;\n",
              "      box-shadow: 0px 1px 3px 1px rgba(0, 0, 0, 0.15);\n",
              "      filter: drop-shadow(0px 1px 2px rgba(0, 0, 0, 0.3));\n",
              "      fill: #FFFFFF;\n",
              "    }\n",
              "  </style>\n",
              "\n",
              "    <script>\n",
              "      const buttonEl =\n",
              "        document.querySelector('#df-5e9d7a1b-cf83-48df-be76-2ee3096e154d button.colab-df-convert');\n",
              "      buttonEl.style.display =\n",
              "        google.colab.kernel.accessAllowed ? 'block' : 'none';\n",
              "\n",
              "      async function convertToInteractive(key) {\n",
              "        const element = document.querySelector('#df-5e9d7a1b-cf83-48df-be76-2ee3096e154d');\n",
              "        const dataTable =\n",
              "          await google.colab.kernel.invokeFunction('convertToInteractive',\n",
              "                                                    [key], {});\n",
              "        if (!dataTable) return;\n",
              "\n",
              "        const docLinkHtml = 'Like what you see? Visit the ' +\n",
              "          '<a target=\"_blank\" href=https://colab.research.google.com/notebooks/data_table.ipynb>data table notebook</a>'\n",
              "          + ' to learn more about interactive tables.';\n",
              "        element.innerHTML = '';\n",
              "        dataTable['output_type'] = 'display_data';\n",
              "        await google.colab.output.renderOutput(dataTable, element);\n",
              "        const docLink = document.createElement('div');\n",
              "        docLink.innerHTML = docLinkHtml;\n",
              "        element.appendChild(docLink);\n",
              "      }\n",
              "    </script>\n",
              "  </div>\n",
              "\n",
              "\n",
              "<div id=\"df-b587db26-236c-4464-83a2-7727863f0e1f\">\n",
              "  <button class=\"colab-df-quickchart\" onclick=\"quickchart('df-b587db26-236c-4464-83a2-7727863f0e1f')\"\n",
              "            title=\"Suggest charts\"\n",
              "            style=\"display:none;\">\n",
              "\n",
              "<svg xmlns=\"http://www.w3.org/2000/svg\" height=\"24px\"viewBox=\"0 0 24 24\"\n",
              "     width=\"24px\">\n",
              "    <g>\n",
              "        <path d=\"M19 3H5c-1.1 0-2 .9-2 2v14c0 1.1.9 2 2 2h14c1.1 0 2-.9 2-2V5c0-1.1-.9-2-2-2zM9 17H7v-7h2v7zm4 0h-2V7h2v10zm4 0h-2v-4h2v4z\"/>\n",
              "    </g>\n",
              "</svg>\n",
              "  </button>\n",
              "\n",
              "<style>\n",
              "  .colab-df-quickchart {\n",
              "      --bg-color: #E8F0FE;\n",
              "      --fill-color: #1967D2;\n",
              "      --hover-bg-color: #E2EBFA;\n",
              "      --hover-fill-color: #174EA6;\n",
              "      --disabled-fill-color: #AAA;\n",
              "      --disabled-bg-color: #DDD;\n",
              "  }\n",
              "\n",
              "  [theme=dark] .colab-df-quickchart {\n",
              "      --bg-color: #3B4455;\n",
              "      --fill-color: #D2E3FC;\n",
              "      --hover-bg-color: #434B5C;\n",
              "      --hover-fill-color: #FFFFFF;\n",
              "      --disabled-bg-color: #3B4455;\n",
              "      --disabled-fill-color: #666;\n",
              "  }\n",
              "\n",
              "  .colab-df-quickchart {\n",
              "    background-color: var(--bg-color);\n",
              "    border: none;\n",
              "    border-radius: 50%;\n",
              "    cursor: pointer;\n",
              "    display: none;\n",
              "    fill: var(--fill-color);\n",
              "    height: 32px;\n",
              "    padding: 0;\n",
              "    width: 32px;\n",
              "  }\n",
              "\n",
              "  .colab-df-quickchart:hover {\n",
              "    background-color: var(--hover-bg-color);\n",
              "    box-shadow: 0 1px 2px rgba(60, 64, 67, 0.3), 0 1px 3px 1px rgba(60, 64, 67, 0.15);\n",
              "    fill: var(--button-hover-fill-color);\n",
              "  }\n",
              "\n",
              "  .colab-df-quickchart-complete:disabled,\n",
              "  .colab-df-quickchart-complete:disabled:hover {\n",
              "    background-color: var(--disabled-bg-color);\n",
              "    fill: var(--disabled-fill-color);\n",
              "    box-shadow: none;\n",
              "  }\n",
              "\n",
              "  .colab-df-spinner {\n",
              "    border: 2px solid var(--fill-color);\n",
              "    border-color: transparent;\n",
              "    border-bottom-color: var(--fill-color);\n",
              "    animation:\n",
              "      spin 1s steps(1) infinite;\n",
              "  }\n",
              "\n",
              "  @keyframes spin {\n",
              "    0% {\n",
              "      border-color: transparent;\n",
              "      border-bottom-color: var(--fill-color);\n",
              "      border-left-color: var(--fill-color);\n",
              "    }\n",
              "    20% {\n",
              "      border-color: transparent;\n",
              "      border-left-color: var(--fill-color);\n",
              "      border-top-color: var(--fill-color);\n",
              "    }\n",
              "    30% {\n",
              "      border-color: transparent;\n",
              "      border-left-color: var(--fill-color);\n",
              "      border-top-color: var(--fill-color);\n",
              "      border-right-color: var(--fill-color);\n",
              "    }\n",
              "    40% {\n",
              "      border-color: transparent;\n",
              "      border-right-color: var(--fill-color);\n",
              "      border-top-color: var(--fill-color);\n",
              "    }\n",
              "    60% {\n",
              "      border-color: transparent;\n",
              "      border-right-color: var(--fill-color);\n",
              "    }\n",
              "    80% {\n",
              "      border-color: transparent;\n",
              "      border-right-color: var(--fill-color);\n",
              "      border-bottom-color: var(--fill-color);\n",
              "    }\n",
              "    90% {\n",
              "      border-color: transparent;\n",
              "      border-bottom-color: var(--fill-color);\n",
              "    }\n",
              "  }\n",
              "</style>\n",
              "\n",
              "  <script>\n",
              "    async function quickchart(key) {\n",
              "      const quickchartButtonEl =\n",
              "        document.querySelector('#' + key + ' button');\n",
              "      quickchartButtonEl.disabled = true;  // To prevent multiple clicks.\n",
              "      quickchartButtonEl.classList.add('colab-df-spinner');\n",
              "      try {\n",
              "        const charts = await google.colab.kernel.invokeFunction(\n",
              "            'suggestCharts', [key], {});\n",
              "      } catch (error) {\n",
              "        console.error('Error during call to suggestCharts:', error);\n",
              "      }\n",
              "      quickchartButtonEl.classList.remove('colab-df-spinner');\n",
              "      quickchartButtonEl.classList.add('colab-df-quickchart-complete');\n",
              "    }\n",
              "    (() => {\n",
              "      let quickchartButtonEl =\n",
              "        document.querySelector('#df-b587db26-236c-4464-83a2-7727863f0e1f button');\n",
              "      quickchartButtonEl.style.display =\n",
              "        google.colab.kernel.accessAllowed ? 'block' : 'none';\n",
              "    })();\n",
              "  </script>\n",
              "</div>\n",
              "    </div>\n",
              "  </div>\n"
            ]
          },
          "metadata": {},
          "execution_count": 1
        }
      ],
      "source": [
        "# Import data:\n",
        "import pandas as pd\n",
        "\n",
        "highway = pd.read_csv('highway.csv')\n",
        "highway.head()"
      ]
    },
    {
      "cell_type": "code",
      "source": [
        "# Average of Access Points:\n",
        "\n",
        "print(\"Average of Access Points is: \", round(highway['Acpt'].mean(),3))"
      ],
      "metadata": {
        "colab": {
          "base_uri": "https://localhost:8080/"
        },
        "id": "hl-zA6VmTzaS",
        "outputId": "60fd7a99-3a03-4e03-99d2-fe80e4223b2a"
      },
      "execution_count": null,
      "outputs": [
        {
          "output_type": "stream",
          "name": "stdout",
          "text": [
            "Average of Access Points is:  12.159\n"
          ]
        }
      ]
    },
    {
      "cell_type": "code",
      "source": [
        "# Average of Truck Volume:\n",
        "\n",
        "print(\"Average of truck volume is: \", round(highway['Trks'].mean(),3))"
      ],
      "metadata": {
        "colab": {
          "base_uri": "https://localhost:8080/"
        },
        "id": "pVOv5Ov8UtIy",
        "outputId": "8669f6b2-2870-4f5b-f300-e603015463ea"
      },
      "execution_count": null,
      "outputs": [
        {
          "output_type": "stream",
          "name": "stdout",
          "text": [
            "Average of truck volume is:  9.333\n"
          ]
        }
      ]
    },
    {
      "cell_type": "markdown",
      "source": [
        "Value of K for the K-means clustering algorithm will lead to a solution that definitely includes the centroid (x1, x2) is (12.159, 9.333)\n"
      ],
      "metadata": {
        "id": "37ugeaAKbvSr"
      }
    },
    {
      "cell_type": "code",
      "source": [
        "# Scatter Plot:\n",
        "import matplotlib.pyplot as plt\n",
        "plt.scatter(highway['Acpt'], highway['Trks'])\n",
        "plt.xlabel('Acpt')\n",
        "plt.ylabel('Trks')\n",
        "plt.title('Truck Volume vs. Access Point')"
      ],
      "metadata": {
        "colab": {
          "base_uri": "https://localhost:8080/",
          "height": 489
        },
        "id": "psGlFBAWi8S3",
        "outputId": "a0479753-1cf3-4bd9-f4fe-36747efc16fa"
      },
      "execution_count": null,
      "outputs": [
        {
          "output_type": "execute_result",
          "data": {
            "text/plain": [
              "Text(0.5, 1.0, 'Truck Volume vs. Access Point')"
            ]
          },
          "metadata": {},
          "execution_count": 4
        },
        {
          "output_type": "display_data",
          "data": {
            "text/plain": [
              "<Figure size 640x480 with 1 Axes>"
            ],
            "image/png": "[encoded data removed]"
          },
          "metadata": {}
        }
      ]
    },
    {
      "cell_type": "code",
      "source": [
        "# K-mean cluster where K=2:\n",
        "\n",
        "from sklearn.cluster import KMeans\n",
        "HWData = highway[['Acpt', 'Trks']]\n",
        "est = KMeans(random_state=0, n_clusters = 2)\n",
        "clusters = est.fit(HWData)"
      ],
      "metadata": {
        "colab": {
          "base_uri": "https://localhost:8080/"
        },
        "id": "kX3YEMeljFNK",
        "outputId": "840d18f4-a4fa-4ce8-c7fe-1ec641c15987"
      },
      "execution_count": null,
      "outputs": [
        {
          "output_type": "stream",
          "name": "stderr",
          "text": [
            "/usr/local/lib/python3.10/dist-packages/sklearn/cluster/_kmeans.py:870: FutureWarning: The default value of `n_init` will change from 10 to 'auto' in 1.4. Set the value of `n_init` explicitly to suppress the warning\n",
            "  warnings.warn(\n"
          ]
        }
      ]
    },
    {
      "cell_type": "code",
      "source": [
        "# Labeling the clusters:\n",
        "clusters.labels_"
      ],
      "metadata": {
        "colab": {
          "base_uri": "https://localhost:8080/"
        },
        "id": "ZBuxYtCppCi9",
        "outputId": "f54fc148-51c2-496b-c372-3388807ef825"
      },
      "execution_count": null,
      "outputs": [
        {
          "output_type": "execute_result",
          "data": {
            "text/plain": [
              "array([0, 0, 0, 0, 0, 1, 0, 0, 0, 0, 0, 0, 0, 0, 0, 0, 0, 0, 0, 0, 0, 0,\n",
              "       0, 0, 1, 0, 1, 0, 1, 0, 0, 0, 0, 0, 0, 0, 0, 0, 0], dtype=int32)"
            ]
          },
          "metadata": {},
          "execution_count": 6
        }
      ]
    },
    {
      "cell_type": "code",
      "source": [
        "# Number of Observations in each cluster:\n",
        "cluster0count = sum(1*(clusters.labels_ == 0))\n",
        "cluster1count = sum(1*(clusters.labels_ == 1))\n",
        "print(\"Number of observations in cluster 0: \", cluster0count)\n",
        "print(\"Number of observations in cluster 1: \", cluster1count)"
      ],
      "metadata": {
        "colab": {
          "base_uri": "https://localhost:8080/"
        },
        "id": "De0mR_qepFix",
        "outputId": "9e8f5dd6-ff2f-4a4e-ccc6-abf5b9db70c2"
      },
      "execution_count": null,
      "outputs": [
        {
          "output_type": "stream",
          "name": "stdout",
          "text": [
            "Number of observations in cluster 0:  35\n",
            "Number of observations in cluster 1:  4\n"
          ]
        }
      ]
    },
    {
      "cell_type": "code",
      "source": [
        "# Centroids of the Clusters:\n",
        "clusters.cluster_centers_"
      ],
      "metadata": {
        "colab": {
          "base_uri": "https://localhost:8080/"
        },
        "id": "4Os-0r5ap03H",
        "outputId": "104643a7-0878-438b-ba0a-fddffddf07cd"
      },
      "execution_count": null,
      "outputs": [
        {
          "output_type": "execute_result",
          "data": {
            "text/plain": [
              "array([[ 9.68285714,  9.62857143],\n",
              "       [33.825     ,  6.75      ]])"
            ]
          },
          "metadata": {},
          "execution_count": 8
        }
      ]
    },
    {
      "cell_type": "code",
      "source": [
        "# Visualizing the Clusters:\n",
        "plt.scatter(highway['Acpt'], highway['Trks'], c = clusters.labels_)\n",
        "plt.xlabel('Acpt')\n",
        "plt.ylabel('Trks')\n",
        "plt.title('Truck Volume vs. Access Point')"
      ],
      "metadata": {
        "colab": {
          "base_uri": "https://localhost:8080/",
          "height": 489
        },
        "id": "UMQhHuYkqH1n",
        "outputId": "598dd77c-9ae9-4435-9af5-b70fece291c0"
      },
      "execution_count": null,
      "outputs": [
        {
          "output_type": "execute_result",
          "data": {
            "text/plain": [
              "Text(0.5, 1.0, 'Truck Volume vs. Access Point')"
            ]
          },
          "metadata": {},
          "execution_count": 9
        },
        {
          "output_type": "display_data",
          "data": {
            "text/plain": [
              "<Figure size 640x480 with 1 Axes>"
            ],
            "image/png": "[encoded data removed]"
          },
          "metadata": {}
        }
      ]
    },
    {
      "cell_type": "code",
      "source": [
        "# Calculatin the Intertia of the Clusters:\n",
        "print(\"Interia =\",clusters.inertia_)"
      ],
      "metadata": {
        "colab": {
          "base_uri": "https://localhost:8080/"
        },
        "id": "rKWUUoZSqe6x",
        "outputId": "d3a6741a-4244-4288-998a-44a39c11e7d7"
      },
      "execution_count": null,
      "outputs": [
        {
          "output_type": "stream",
          "name": "stdout",
          "text": [
            "Interia = 1388.258642857143\n"
          ]
        }
      ]
    },
    {
      "cell_type": "code",
      "source": [
        "# K-mean cluster where K=3:\n",
        "\n",
        "from sklearn.cluster import KMeans\n",
        "est = KMeans(random_state = 0, n_clusters = 3)\n",
        "clusters = est.fit(HWData)"
      ],
      "metadata": {
        "colab": {
          "base_uri": "https://localhost:8080/"
        },
        "id": "5qxs_xvsq5X6",
        "outputId": "75a6ca7a-8265-481e-a4d8-a84388bc8d15"
      },
      "execution_count": null,
      "outputs": [
        {
          "output_type": "stream",
          "name": "stderr",
          "text": [
            "/usr/local/lib/python3.10/dist-packages/sklearn/cluster/_kmeans.py:870: FutureWarning: The default value of `n_init` will change from 10 to 'auto' in 1.4. Set the value of `n_init` explicitly to suppress the warning\n",
            "  warnings.warn(\n"
          ]
        }
      ]
    },
    {
      "cell_type": "code",
      "source": [
        "# Labeling for K =3\n",
        "\n",
        "K_3 = clusters.labels_"
      ],
      "metadata": {
        "id": "kmftgQZUsE6i"
      },
      "execution_count": null,
      "outputs": []
    },
    {
      "cell_type": "code",
      "source": [
        "plt.scatter(highway['Acpt'], highway['Trks'], c = K_3)\n",
        "plt.xlabel('Acpt')\n",
        "plt.ylabel('Trks')\n",
        "plt.title('Truck Volume vs. Access Point')"
      ],
      "metadata": {
        "colab": {
          "base_uri": "https://localhost:8080/",
          "height": 489
        },
        "id": "Z-Dpzjx9sOD0",
        "outputId": "aea4cd1c-62f6-4968-dd4c-9eee696c6103"
      },
      "execution_count": null,
      "outputs": [
        {
          "output_type": "execute_result",
          "data": {
            "text/plain": [
              "Text(0.5, 1.0, 'Truck Volume vs. Access Point')"
            ]
          },
          "metadata": {},
          "execution_count": 13
        },
        {
          "output_type": "display_data",
          "data": {
            "text/plain": [
              "<Figure size 640x480 with 1 Axes>"
            ],
            "image/png": "[encoded data removed]"
          },
          "metadata": {}
        }
      ]
    },
    {
      "cell_type": "code",
      "source": [
        "# Normalizing the data:\n",
        "\n",
        "def min_max_scaling(series):\n",
        "    return (series - series.min()) / (series.max() - series.min())\n",
        "\n",
        "highway['Trks_normalized'] = min_max_scaling(highway['Trks'])\n",
        "highway['Acpt_normalized'] = min_max_scaling(highway['Acpt'])"
      ],
      "metadata": {
        "id": "HAyqm-k5seJd"
      },
      "execution_count": null,
      "outputs": []
    },
    {
      "cell_type": "code",
      "source": [
        "# Clustering using Normalized Data:\n",
        "\n",
        "from sklearn.cluster import KMeans\n",
        "HWData_Normalized = highway[['Acpt_normalized', 'Trks_normalized']]\n",
        "est = KMeans(random_state = 0, n_clusters = 2)\n",
        "clusters = est.fit(HWData_Normalized)"
      ],
      "metadata": {
        "colab": {
          "base_uri": "https://localhost:8080/"
        },
        "id": "JVdbkEbwsrju",
        "outputId": "964ba7e1-0d63-4127-83eb-e362620a315d"
      },
      "execution_count": null,
      "outputs": [
        {
          "output_type": "stream",
          "name": "stderr",
          "text": [
            "/usr/local/lib/python3.10/dist-packages/sklearn/cluster/_kmeans.py:870: FutureWarning: The default value of `n_init` will change from 10 to 'auto' in 1.4. Set the value of `n_init` explicitly to suppress the warning\n",
            "  warnings.warn(\n"
          ]
        }
      ]
    },
    {
      "cell_type": "code",
      "source": [
        "# Centroids of the Normalized Clusters:\n",
        "\n",
        "clusters.cluster_centers_"
      ],
      "metadata": {
        "colab": {
          "base_uri": "https://localhost:8080/"
        },
        "id": "vJfUuepWtCAg",
        "outputId": "b96a63a7-f768-4615-f19b-4dd17c9963f1"
      },
      "execution_count": null,
      "outputs": [
        {
          "output_type": "execute_result",
          "data": {
            "text/plain": [
              "array([[0.23382403, 0.1884058 ],\n",
              "       [0.14173228, 0.63194444]])"
            ]
          },
          "metadata": {},
          "execution_count": 16
        }
      ]
    },
    {
      "cell_type": "code",
      "source": [
        "# K-mean Cluster with K=2:\n",
        "\n",
        "plt.scatter(highway['Acpt_normalized'], highway['Trks_normalized'], c = clusters.labels_)\n",
        "plt.xlabel('Acpt_Normalized')\n",
        "plt.ylabel('Trks_Normalized')\n",
        "plt.title('Truck Volume vs. Access Point')"
      ],
      "metadata": {
        "colab": {
          "base_uri": "https://localhost:8080/",
          "height": 489
        },
        "id": "SkjvWa636H9H",
        "outputId": "ed3f6c3c-ffd7-4fc6-bbb7-6c4632d83425"
      },
      "execution_count": null,
      "outputs": [
        {
          "output_type": "execute_result",
          "data": {
            "text/plain": [
              "Text(0.5, 1.0, 'Truck Volume vs. Access Point')"
            ]
          },
          "metadata": {},
          "execution_count": 17
        },
        {
          "output_type": "display_data",
          "data": {
            "text/plain": [
              "<Figure size 640x480 with 1 Axes>"
            ],
            "image/png": "[encoded data removed]"
          },
          "metadata": {}
        }
      ]
    },
    {
      "cell_type": "code",
      "source": [
        "from sklearn.cluster import KMeans\n",
        "HWData_Normalized = highway[['Acpt_normalized', 'Trks_normalized']]\n",
        "est = KMeans(random_state = 0, n_clusters = 3)\n",
        "clusters = est.fit(HWData_Normalized)"
      ],
      "metadata": {
        "colab": {
          "base_uri": "https://localhost:8080/"
        },
        "id": "ji4m1rNACpAT",
        "outputId": "5cf689aa-c37f-4b58-dedb-84140a282b80"
      },
      "execution_count": null,
      "outputs": [
        {
          "output_type": "stream",
          "name": "stderr",
          "text": [
            "/usr/local/lib/python3.10/dist-packages/sklearn/cluster/_kmeans.py:870: FutureWarning: The default value of `n_init` will change from 10 to 'auto' in 1.4. Set the value of `n_init` explicitly to suppress the warning\n",
            "  warnings.warn(\n"
          ]
        }
      ]
    },
    {
      "cell_type": "code",
      "source": [
        "# K-mean Cluster with K=3:\n",
        "\n",
        "plt.scatter(highway['Acpt_normalized'], highway['Trks_normalized'], c = clusters.labels_)\n",
        "plt.xlabel('Acpt_Normalized')\n",
        "plt.ylabel('Trks_Normalized')\n",
        "plt.title('Truck Volume vs. Access Point')"
      ],
      "metadata": {
        "colab": {
          "base_uri": "https://localhost:8080/",
          "height": 489
        },
        "id": "RUAzCPCH9P3o",
        "outputId": "1429231a-a702-4f0e-db03-d5d98db54064"
      },
      "execution_count": null,
      "outputs": [
        {
          "output_type": "execute_result",
          "data": {
            "text/plain": [
              "Text(0.5, 1.0, 'Truck Volume vs. Access Point')"
            ]
          },
          "metadata": {},
          "execution_count": 19
        },
        {
          "output_type": "display_data",
          "data": {
            "text/plain": [
              "<Figure size 640x480 with 1 Axes>"
            ],
            "image/png": "[encoded data removed]"
          },
          "metadata": {}
        }
      ]
    },
    {
      "cell_type": "code",
      "source": [
        "# Elbow Method:\n",
        "\n",
        "WCSS = []\n",
        "K_Values = []\n",
        "\n",
        "for K in range(1, 11):\n",
        "  est = KMeans(random_state=0, n_clusters = K)\n",
        "  clusters = est.fit(HWData)\n",
        "  K_Values.append(K)\n",
        "  WCSS.append(clusters.inertia_)\n",
        "\n",
        "plt.plot(K_Values, WCSS)\n",
        "plt.xlabel('K')\n",
        "plt.ylabel('Within-Cluster Sum-of-Squares')\n",
        "plt.title('Within-Cluster Sum-of-Squares vs. K')"
      ],
      "metadata": {
        "colab": {
          "base_uri": "https://localhost:8080/",
          "height": 857
        },
        "id": "iKD3qSegDJHl",
        "outputId": "b840ae07-7fb8-4b30-97b2-dc7d968404df"
      },
      "execution_count": null,
      "outputs": [
        {
          "output_type": "stream",
          "name": "stderr",
          "text": [
            "/usr/local/lib/python3.10/dist-packages/sklearn/cluster/_kmeans.py:870: FutureWarning: The default value of `n_init` will change from 10 to 'auto' in 1.4. Set the value of `n_init` explicitly to suppress the warning\n",
            "  warnings.warn(\n",
            "/usr/local/lib/python3.10/dist-packages/sklearn/cluster/_kmeans.py:870: FutureWarning: The default value of `n_init` will change from 10 to 'auto' in 1.4. Set the value of `n_init` explicitly to suppress the warning\n",
            "  warnings.warn(\n",
            "/usr/local/lib/python3.10/dist-packages/sklearn/cluster/_kmeans.py:870: FutureWarning: The default value of `n_init` will change from 10 to 'auto' in 1.4. Set the value of `n_init` explicitly to suppress the warning\n",
            "  warnings.warn(\n",
            "/usr/local/lib/python3.10/dist-packages/sklearn/cluster/_kmeans.py:870: FutureWarning: The default value of `n_init` will change from 10 to 'auto' in 1.4. Set the value of `n_init` explicitly to suppress the warning\n",
            "  warnings.warn(\n",
            "/usr/local/lib/python3.10/dist-packages/sklearn/cluster/_kmeans.py:870: FutureWarning: The default value of `n_init` will change from 10 to 'auto' in 1.4. Set the value of `n_init` explicitly to suppress the warning\n",
            "  warnings.warn(\n",
            "/usr/local/lib/python3.10/dist-packages/sklearn/cluster/_kmeans.py:870: FutureWarning: The default value of `n_init` will change from 10 to 'auto' in 1.4. Set the value of `n_init` explicitly to suppress the warning\n",
            "  warnings.warn(\n",
            "/usr/local/lib/python3.10/dist-packages/sklearn/cluster/_kmeans.py:870: FutureWarning: The default value of `n_init` will change from 10 to 'auto' in 1.4. Set the value of `n_init` explicitly to suppress the warning\n",
            "  warnings.warn(\n",
            "/usr/local/lib/python3.10/dist-packages/sklearn/cluster/_kmeans.py:870: FutureWarning: The default value of `n_init` will change from 10 to 'auto' in 1.4. Set the value of `n_init` explicitly to suppress the warning\n",
            "  warnings.warn(\n",
            "/usr/local/lib/python3.10/dist-packages/sklearn/cluster/_kmeans.py:870: FutureWarning: The default value of `n_init` will change from 10 to 'auto' in 1.4. Set the value of `n_init` explicitly to suppress the warning\n",
            "  warnings.warn(\n",
            "/usr/local/lib/python3.10/dist-packages/sklearn/cluster/_kmeans.py:870: FutureWarning: The default value of `n_init` will change from 10 to 'auto' in 1.4. Set the value of `n_init` explicitly to suppress the warning\n",
            "  warnings.warn(\n"
          ]
        },
        {
          "output_type": "execute_result",
          "data": {
            "text/plain": [
              "Text(0.5, 1.0, 'Within-Cluster Sum-of-Squares vs. K')"
            ]
          },
          "metadata": {},
          "execution_count": 20
        },
        {
          "output_type": "display_data",
          "data": {
            "text/plain": [
              "<Figure size 640x480 with 1 Axes>"
            ],
            "image/png": "[encoded data removed]"
          },
          "metadata": {}
        }
      ]
    },
    {
      "cell_type": "code",
      "source": [
        "# Elbow Method Normalized:\n",
        "\n",
        "WCSS = []\n",
        "K_Values = []\n",
        "\n",
        "for K in range(1, 10):\n",
        "  est = KMeans(random_state=0, n_clusters = K)\n",
        "  clusters = est.fit(HWData_Normalized)\n",
        "  K_Values.append(K)\n",
        "  WCSS.append(clusters.inertia_)\n",
        "\n",
        "plt.plot(K_Values, WCSS)\n",
        "plt.xlabel('K')\n",
        "plt.ylabel('Within-Cluster Sum-of-Squares')\n",
        "plt.title('Within-Cluster Sum-of-Squares vs. K')"
      ],
      "metadata": {
        "colab": {
          "base_uri": "https://localhost:8080/",
          "height": 822
        },
        "id": "6RLJ91QoEOi6",
        "outputId": "e764a01d-0310-452e-e473-dca9d5be3ab7"
      },
      "execution_count": null,
      "outputs": [
        {
          "output_type": "stream",
          "name": "stderr",
          "text": [
            "/usr/local/lib/python3.10/dist-packages/sklearn/cluster/_kmeans.py:870: FutureWarning: The default value of `n_init` will change from 10 to 'auto' in 1.4. Set the value of `n_init` explicitly to suppress the warning\n",
            "  warnings.warn(\n",
            "/usr/local/lib/python3.10/dist-packages/sklearn/cluster/_kmeans.py:870: FutureWarning: The default value of `n_init` will change from 10 to 'auto' in 1.4. Set the value of `n_init` explicitly to suppress the warning\n",
            "  warnings.warn(\n",
            "/usr/local/lib/python3.10/dist-packages/sklearn/cluster/_kmeans.py:870: FutureWarning: The default value of `n_init` will change from 10 to 'auto' in 1.4. Set the value of `n_init` explicitly to suppress the warning\n",
            "  warnings.warn(\n",
            "/usr/local/lib/python3.10/dist-packages/sklearn/cluster/_kmeans.py:870: FutureWarning: The default value of `n_init` will change from 10 to 'auto' in 1.4. Set the value of `n_init` explicitly to suppress the warning\n",
            "  warnings.warn(\n",
            "/usr/local/lib/python3.10/dist-packages/sklearn/cluster/_kmeans.py:870: FutureWarning: The default value of `n_init` will change from 10 to 'auto' in 1.4. Set the value of `n_init` explicitly to suppress the warning\n",
            "  warnings.warn(\n",
            "/usr/local/lib/python3.10/dist-packages/sklearn/cluster/_kmeans.py:870: FutureWarning: The default value of `n_init` will change from 10 to 'auto' in 1.4. Set the value of `n_init` explicitly to suppress the warning\n",
            "  warnings.warn(\n",
            "/usr/local/lib/python3.10/dist-packages/sklearn/cluster/_kmeans.py:870: FutureWarning: The default value of `n_init` will change from 10 to 'auto' in 1.4. Set the value of `n_init` explicitly to suppress the warning\n",
            "  warnings.warn(\n",
            "/usr/local/lib/python3.10/dist-packages/sklearn/cluster/_kmeans.py:870: FutureWarning: The default value of `n_init` will change from 10 to 'auto' in 1.4. Set the value of `n_init` explicitly to suppress the warning\n",
            "  warnings.warn(\n",
            "/usr/local/lib/python3.10/dist-packages/sklearn/cluster/_kmeans.py:870: FutureWarning: The default value of `n_init` will change from 10 to 'auto' in 1.4. Set the value of `n_init` explicitly to suppress the warning\n",
            "  warnings.warn(\n"
          ]
        },
        {
          "output_type": "execute_result",
          "data": {
            "text/plain": [
              "Text(0.5, 1.0, 'Within-Cluster Sum-of-Squares vs. K')"
            ]
          },
          "metadata": {},
          "execution_count": 21
        },
        {
          "output_type": "display_data",
          "data": {
            "text/plain": [
              "<Figure size 640x480 with 1 Axes>"
            ],
            "image/png": "[encoded data removed]"
          },
          "metadata": {}
        }
      ]
    },
    {
      "cell_type": "code",
      "source": [
        "from sklearn.cluster import KMeans\n",
        "\n",
        "est3 = KMeans(random_state=0, n_clusters = 3)\n",
        "clusters3 = est3.fit(HWData_Normalized)"
      ],
      "metadata": {
        "colab": {
          "base_uri": "https://localhost:8080/"
        },
        "id": "fQ75i9ty0Q84",
        "outputId": "ad1f6ff3-d9c7-407e-9ec0-7c774714d093"
      },
      "execution_count": null,
      "outputs": [
        {
          "output_type": "stream",
          "name": "stderr",
          "text": [
            "/usr/local/lib/python3.10/dist-packages/sklearn/cluster/_kmeans.py:870: FutureWarning: The default value of `n_init` will change from 10 to 'auto' in 1.4. Set the value of `n_init` explicitly to suppress the warning\n",
            "  warnings.warn(\n"
          ]
        }
      ]
    },
    {
      "cell_type": "code",
      "source": [
        "plt.scatter(highway['Acpt_normalized'], highway['Trks_normalized'], c = clusters3.labels_)\n",
        "plt.xlabel('Acpt_Normalized')\n",
        "plt.ylabel('Trks_Normalized')\n",
        "plt.title('Truck Volume vs. Access Point')"
      ],
      "metadata": {
        "colab": {
          "base_uri": "https://localhost:8080/",
          "height": 489
        },
        "id": "qtk01Wxj0xEQ",
        "outputId": "1916fca5-22db-4eb0-c59d-0b64854d73bc"
      },
      "execution_count": null,
      "outputs": [
        {
          "output_type": "execute_result",
          "data": {
            "text/plain": [
              "Text(0.5, 1.0, 'Truck Volume vs. Access Point')"
            ]
          },
          "metadata": {},
          "execution_count": 23
        },
        {
          "output_type": "display_data",
          "data": {
            "text/plain": [
              "<Figure size 640x480 with 1 Axes>"
            ],
            "image/png": "[encoded data removed]"
          },
          "metadata": {}
        }
      ]
    },
    {
      "cell_type": "code",
      "source": [
        "highway['Label'] = clusters3.labels_\n",
        "\n",
        "cluster0 = highway[(highway['Label'] == 0)]"
      ],
      "metadata": {
        "id": "NzpHKspe4VSf"
      },
      "execution_count": null,
      "outputs": []
    },
    {
      "cell_type": "code",
      "source": [
        "cluster0"
      ],
      "metadata": {
        "colab": {
          "base_uri": "https://localhost:8080/",
          "height": 791
        },
        "id": "lMFU8rFL9xby",
        "outputId": "b7ec2bd8-8493-42b1-fb2b-0baeb9087ca1"
      },
      "execution_count": null,
      "outputs": [
        {
          "output_type": "execute_result",
          "data": {
            "text/plain": [
              "    Rate    Len  Adt  Trks  Slim  Lwid  Shld   Itg  Sigs  Acpt  Lane  Fai  Pa  \\\n",
              "0   4.58   4.99   69     8    55    12    10  1.20  0.00   4.6     8    1   0   \n",
              "1   2.86  16.11   73     8    60    12    10  1.43  0.00   4.4     4    1   0   \n",
              "2   3.02   9.75   49    10    60    12    10  1.54  0.00   4.7     4    1   0   \n",
              "6   3.85   8.57   46     8    55    12     8  0.47  0.70  11.0     4    0   1   \n",
              "7   6.12   5.24   25     9    55    12    10  0.38  0.38  18.5     4    0   1   \n",
              "9   5.88   8.26   23     7    50    12     5  0.12  1.21   8.2     4    0   1   \n",
              "10  4.20   7.03   23     6    60    12    10  0.29  1.85   5.4     4    0   1   \n",
              "11  4.61  13.28   20     9    50    12     2  0.15  1.21  11.2     4    0   1   \n",
              "13  3.85   2.96   21     8    60    12    10  0.34  0.00   5.4     4    0   1   \n",
              "14  2.69  11.75   27     7    55    12    10  0.26  0.60   7.9     4    0   1   \n",
              "15  1.99   8.86   22     9    60    12    10  0.68  0.00   3.2     4    0   1   \n",
              "16  2.01   9.78   19     9    60    12    10  0.20  0.10  11.0     4    0   1   \n",
              "18  2.76   8.63   12     8    55    13     6  0.14  0.00  12.4     2    0   1   \n",
              "19  2.55  20.31   12     7    60    12    10  0.05  0.99   7.8     4    0   1   \n",
              "21  2.34  11.81    8     8    60    12    10  0.00  0.00   4.3     2    0   1   \n",
              "22  2.83  11.39    5     9    50    12     8  0.00  0.09  11.1     2    0   1   \n",
              "27  2.93  14.41   10    10    55    12     6  0.00  0.07  18.0     2    0   0   \n",
              "29  2.57  11.10    9     8    60    12     7  0.00  0.00  10.3     2    0   0   \n",
              "30  5.77  22.09    4     8    45    11     3  0.00  0.14  18.2     2    0   0   \n",
              "31  2.90   9.39    5    10    55    13     1  0.00  0.00  12.3     2    0   0   \n",
              "34  3.78  27.16    2    10    55    12     3  0.04  0.04  11.3     2    0   0   \n",
              "35  2.76  14.03    3     8    50    12     4  0.07  0.00  16.3     2    0   0   \n",
              "38  4.12  12.91    1    10    55    12     3  0.00  0.00  10.4     2    0   0   \n",
              "\n",
              "    Ma  Trks_normalized  Acpt_normalized  Label  \n",
              "0    0         0.222222         0.047244      0  \n",
              "1    0         0.222222         0.043307      0  \n",
              "2    0         0.444444         0.049213      0  \n",
              "6    0         0.222222         0.173228      0  \n",
              "7    0         0.333333         0.320866      0  \n",
              "9    0         0.111111         0.118110      0  \n",
              "10   0         0.000000         0.062992      0  \n",
              "11   0         0.333333         0.177165      0  \n",
              "13   0         0.222222         0.062992      0  \n",
              "14   0         0.111111         0.112205      0  \n",
              "15   0         0.333333         0.019685      0  \n",
              "16   0         0.333333         0.173228      0  \n",
              "18   0         0.222222         0.200787      0  \n",
              "19   0         0.111111         0.110236      0  \n",
              "21   0         0.222222         0.041339      0  \n",
              "22   0         0.333333         0.175197      0  \n",
              "27   1         0.444444         0.311024      0  \n",
              "29   1         0.222222         0.159449      0  \n",
              "30   1         0.222222         0.314961      0  \n",
              "31   1         0.444444         0.198819      0  \n",
              "34   1         0.444444         0.179134      0  \n",
              "35   1         0.222222         0.277559      0  \n",
              "38   0         0.444444         0.161417      0  "
            ],
            "text/html": [
              "\n",
              "  <div id=\"df-4324833b-06e9-47a7-ba1f-ad7df17db5fa\" class=\"colab-df-container\">\n",
              "    <div>\n",
              "<style scoped>\n",
              "    .dataframe tbody tr th:only-of-type {\n",
              "        vertical-align: middle;\n",
              "    }\n",
              "\n",
              "    .dataframe tbody tr th {\n",
              "        vertical-align: top;\n",
              "    }\n",
              "\n",
              "    .dataframe thead th {\n",
              "        text-align: right;\n",
              "    }\n",
              "</style>\n",
              "<table border=\"1\" class=\"dataframe\">\n",
              "  <thead>\n",
              "    <tr style=\"text-align: right;\">\n",
              "      <th></th>\n",
              "      <th>Rate</th>\n",
              "      <th>Len</th>\n",
              "      <th>Adt</th>\n",
              "      <th>Trks</th>\n",
              "      <th>Slim</th>\n",
              "      <th>Lwid</th>\n",
              "      <th>Shld</th>\n",
              "      <th>Itg</th>\n",
              "      <th>Sigs</th>\n",
              "      <th>Acpt</th>\n",
              "      <th>Lane</th>\n",
              "      <th>Fai</th>\n",
              "      <th>Pa</th>\n",
              "      <th>Ma</th>\n",
              "      <th>Trks_normalized</th>\n",
              "      <th>Acpt_normalized</th>\n",
              "      <th>Label</th>\n",
              "    </tr>\n",
              "  </thead>\n",
              "  <tbody>\n",
              "    <tr>\n",
              "      <th>0</th>\n",
              "      <td>4.58</td>\n",
              "      <td>4.99</td>\n",
              "      <td>69</td>\n",
              "      <td>8</td>\n",
              "      <td>55</td>\n",
              "      <td>12</td>\n",
              "      <td>10</td>\n",
              "      <td>1.20</td>\n",
              "      <td>0.00</td>\n",
              "      <td>4.6</td>\n",
              "      <td>8</td>\n",
              "      <td>1</td>\n",
              "      <td>0</td>\n",
              "      <td>0</td>\n",
              "      <td>0.222222</td>\n",
              "      <td>0.047244</td>\n",
              "      <td>0</td>\n",
              "    </tr>\n",
              "    <tr>\n",
              "      <th>1</th>\n",
              "      <td>2.86</td>\n",
              "      <td>16.11</td>\n",
              "      <td>73</td>\n",
              "      <td>8</td>\n",
              "      <td>60</td>\n",
              "      <td>12</td>\n",
              "      <td>10</td>\n",
              "      <td>1.43</td>\n",
              "      <td>0.00</td>\n",
              "      <td>4.4</td>\n",
              "      <td>4</td>\n",
              "      <td>1</td>\n",
              "      <td>0</td>\n",
              "      <td>0</td>\n",
              "      <td>0.222222</td>\n",
              "      <td>0.043307</td>\n",
              "      <td>0</td>\n",
              "    </tr>\n",
              "    <tr>\n",
              "      <th>2</th>\n",
              "      <td>3.02</td>\n",
              "      <td>9.75</td>\n",
              "      <td>49</td>\n",
              "      <td>10</td>\n",
              "      <td>60</td>\n",
              "      <td>12</td>\n",
              "      <td>10</td>\n",
              "      <td>1.54</td>\n",
              "      <td>0.00</td>\n",
              "      <td>4.7</td>\n",
              "      <td>4</td>\n",
              "      <td>1</td>\n",
              "      <td>0</td>\n",
              "      <td>0</td>\n",
              "      <td>0.444444</td>\n",
              "      <td>0.049213</td>\n",
              "      <td>0</td>\n",
              "    </tr>\n",
              "    <tr>\n",
              "      <th>6</th>\n",
              "      <td>3.85</td>\n",
              "      <td>8.57</td>\n",
              "      <td>46</td>\n",
              "      <td>8</td>\n",
              "      <td>55</td>\n",
              "      <td>12</td>\n",
              "      <td>8</td>\n",
              "      <td>0.47</td>\n",
              "      <td>0.70</td>\n",
              "      <td>11.0</td>\n",
              "      <td>4</td>\n",
              "      <td>0</td>\n",
              "      <td>1</td>\n",
              "      <td>0</td>\n",
              "      <td>0.222222</td>\n",
              "      <td>0.173228</td>\n",
              "      <td>0</td>\n",
              "    </tr>\n",
              "    <tr>\n",
              "      <th>7</th>\n",
              "      <td>6.12</td>\n",
              "      <td>5.24</td>\n",
              "      <td>25</td>\n",
              "      <td>9</td>\n",
              "      <td>55</td>\n",
              "      <td>12</td>\n",
              "      <td>10</td>\n",
              "      <td>0.38</td>\n",
              "      <td>0.38</td>\n",
              "      <td>18.5</td>\n",
              "      <td>4</td>\n",
              "      <td>0</td>\n",
              "      <td>1</td>\n",
              "      <td>0</td>\n",
              "      <td>0.333333</td>\n",
              "      <td>0.320866</td>\n",
              "      <td>0</td>\n",
              "    </tr>\n",
              "    <tr>\n",
              "      <th>9</th>\n",
              "      <td>5.88</td>\n",
              "      <td>8.26</td>\n",
              "      <td>23</td>\n",
              "      <td>7</td>\n",
              "      <td>50</td>\n",
              "      <td>12</td>\n",
              "      <td>5</td>\n",
              "      <td>0.12</td>\n",
              "      <td>1.21</td>\n",
              "      <td>8.2</td>\n",
              "      <td>4</td>\n",
              "      <td>0</td>\n",
              "      <td>1</td>\n",
              "      <td>0</td>\n",
              "      <td>0.111111</td>\n",
              "      <td>0.118110</td>\n",
              "      <td>0</td>\n",
              "    </tr>\n",
              "    <tr>\n",
              "      <th>10</th>\n",
              "      <td>4.20</td>\n",
              "      <td>7.03</td>\n",
              "      <td>23</td>\n",
              "      <td>6</td>\n",
              "      <td>60</td>\n",
              "      <td>12</td>\n",
              "      <td>10</td>\n",
              "      <td>0.29</td>\n",
              "      <td>1.85</td>\n",
              "      <td>5.4</td>\n",
              "      <td>4</td>\n",
              "      <td>0</td>\n",
              "      <td>1</td>\n",
              "      <td>0</td>\n",
              "      <td>0.000000</td>\n",
              "      <td>0.062992</td>\n",
              "      <td>0</td>\n",
              "    </tr>\n",
              "    <tr>\n",
              "      <th>11</th>\n",
              "      <td>4.61</td>\n",
              "      <td>13.28</td>\n",
              "      <td>20</td>\n",
              "      <td>9</td>\n",
              "      <td>50</td>\n",
              "      <td>12</td>\n",
              "      <td>2</td>\n",
              "      <td>0.15</td>\n",
              "      <td>1.21</td>\n",
              "      <td>11.2</td>\n",
              "      <td>4</td>\n",
              "      <td>0</td>\n",
              "      <td>1</td>\n",
              "      <td>0</td>\n",
              "      <td>0.333333</td>\n",
              "      <td>0.177165</td>\n",
              "      <td>0</td>\n",
              "    </tr>\n",
              "    <tr>\n",
              "      <th>13</th>\n",
              "      <td>3.85</td>\n",
              "      <td>2.96</td>\n",
              "      <td>21</td>\n",
              "      <td>8</td>\n",
              "      <td>60</td>\n",
              "      <td>12</td>\n",
              "      <td>10</td>\n",
              "      <td>0.34</td>\n",
              "      <td>0.00</td>\n",
              "      <td>5.4</td>\n",
              "      <td>4</td>\n",
              "      <td>0</td>\n",
              "      <td>1</td>\n",
              "      <td>0</td>\n",
              "      <td>0.222222</td>\n",
              "      <td>0.062992</td>\n",
              "      <td>0</td>\n",
              "    </tr>\n",
              "    <tr>\n",
              "      <th>14</th>\n",
              "      <td>2.69</td>\n",
              "      <td>11.75</td>\n",
              "      <td>27</td>\n",
              "      <td>7</td>\n",
              "      <td>55</td>\n",
              "      <td>12</td>\n",
              "      <td>10</td>\n",
              "      <td>0.26</td>\n",
              "      <td>0.60</td>\n",
              "      <td>7.9</td>\n",
              "      <td>4</td>\n",
              "      <td>0</td>\n",
              "      <td>1</td>\n",
              "      <td>0</td>\n",
              "      <td>0.111111</td>\n",
              "      <td>0.112205</td>\n",
              "      <td>0</td>\n",
              "    </tr>\n",
              "    <tr>\n",
              "      <th>15</th>\n",
              "      <td>1.99</td>\n",
              "      <td>8.86</td>\n",
              "      <td>22</td>\n",
              "      <td>9</td>\n",
              "      <td>60</td>\n",
              "      <td>12</td>\n",
              "      <td>10</td>\n",
              "      <td>0.68</td>\n",
              "      <td>0.00</td>\n",
              "      <td>3.2</td>\n",
              "      <td>4</td>\n",
              "      <td>0</td>\n",
              "      <td>1</td>\n",
              "      <td>0</td>\n",
              "      <td>0.333333</td>\n",
              "      <td>0.019685</td>\n",
              "      <td>0</td>\n",
              "    </tr>\n",
              "    <tr>\n",
              "      <th>16</th>\n",
              "      <td>2.01</td>\n",
              "      <td>9.78</td>\n",
              "      <td>19</td>\n",
              "      <td>9</td>\n",
              "      <td>60</td>\n",
              "      <td>12</td>\n",
              "      <td>10</td>\n",
              "      <td>0.20</td>\n",
              "      <td>0.10</td>\n",
              "      <td>11.0</td>\n",
              "      <td>4</td>\n",
              "      <td>0</td>\n",
              "      <td>1</td>\n",
              "      <td>0</td>\n",
              "      <td>0.333333</td>\n",
              "      <td>0.173228</td>\n",
              "      <td>0</td>\n",
              "    </tr>\n",
              "    <tr>\n",
              "      <th>18</th>\n",
              "      <td>2.76</td>\n",
              "      <td>8.63</td>\n",
              "      <td>12</td>\n",
              "      <td>8</td>\n",
              "      <td>55</td>\n",
              "      <td>13</td>\n",
              "      <td>6</td>\n",
              "      <td>0.14</td>\n",
              "      <td>0.00</td>\n",
              "      <td>12.4</td>\n",
              "      <td>2</td>\n",
              "      <td>0</td>\n",
              "      <td>1</td>\n",
              "      <td>0</td>\n",
              "      <td>0.222222</td>\n",
              "      <td>0.200787</td>\n",
              "      <td>0</td>\n",
              "    </tr>\n",
              "    <tr>\n",
              "      <th>19</th>\n",
              "      <td>2.55</td>\n",
              "      <td>20.31</td>\n",
              "      <td>12</td>\n",
              "      <td>7</td>\n",
              "      <td>60</td>\n",
              "      <td>12</td>\n",
              "      <td>10</td>\n",
              "      <td>0.05</td>\n",
              "      <td>0.99</td>\n",
              "      <td>7.8</td>\n",
              "      <td>4</td>\n",
              "      <td>0</td>\n",
              "      <td>1</td>\n",
              "      <td>0</td>\n",
              "      <td>0.111111</td>\n",
              "      <td>0.110236</td>\n",
              "      <td>0</td>\n",
              "    </tr>\n",
              "    <tr>\n",
              "      <th>21</th>\n",
              "      <td>2.34</td>\n",
              "      <td>11.81</td>\n",
              "      <td>8</td>\n",
              "      <td>8</td>\n",
              "      <td>60</td>\n",
              "      <td>12</td>\n",
              "      <td>10</td>\n",
              "      <td>0.00</td>\n",
              "      <td>0.00</td>\n",
              "      <td>4.3</td>\n",
              "      <td>2</td>\n",
              "      <td>0</td>\n",
              "      <td>1</td>\n",
              "      <td>0</td>\n",
              "      <td>0.222222</td>\n",
              "      <td>0.041339</td>\n",
              "      <td>0</td>\n",
              "    </tr>\n",
              "    <tr>\n",
              "      <th>22</th>\n",
              "      <td>2.83</td>\n",
              "      <td>11.39</td>\n",
              "      <td>5</td>\n",
              "      <td>9</td>\n",
              "      <td>50</td>\n",
              "      <td>12</td>\n",
              "      <td>8</td>\n",
              "      <td>0.00</td>\n",
              "      <td>0.09</td>\n",
              "      <td>11.1</td>\n",
              "      <td>2</td>\n",
              "      <td>0</td>\n",
              "      <td>1</td>\n",
              "      <td>0</td>\n",
              "      <td>0.333333</td>\n",
              "      <td>0.175197</td>\n",
              "      <td>0</td>\n",
              "    </tr>\n",
              "    <tr>\n",
              "      <th>27</th>\n",
              "      <td>2.93</td>\n",
              "      <td>14.41</td>\n",
              "      <td>10</td>\n",
              "      <td>10</td>\n",
              "      <td>55</td>\n",
              "      <td>12</td>\n",
              "      <td>6</td>\n",
              "      <td>0.00</td>\n",
              "      <td>0.07</td>\n",
              "      <td>18.0</td>\n",
              "      <td>2</td>\n",
              "      <td>0</td>\n",
              "      <td>0</td>\n",
              "      <td>1</td>\n",
              "      <td>0.444444</td>\n",
              "      <td>0.311024</td>\n",
              "      <td>0</td>\n",
              "    </tr>\n",
              "    <tr>\n",
              "      <th>29</th>\n",
              "      <td>2.57</td>\n",
              "      <td>11.10</td>\n",
              "      <td>9</td>\n",
              "      <td>8</td>\n",
              "      <td>60</td>\n",
              "      <td>12</td>\n",
              "      <td>7</td>\n",
              "      <td>0.00</td>\n",
              "      <td>0.00</td>\n",
              "      <td>10.3</td>\n",
              "      <td>2</td>\n",
              "      <td>0</td>\n",
              "      <td>0</td>\n",
              "      <td>1</td>\n",
              "      <td>0.222222</td>\n",
              "      <td>0.159449</td>\n",
              "      <td>0</td>\n",
              "    </tr>\n",
              "    <tr>\n",
              "      <th>30</th>\n",
              "      <td>5.77</td>\n",
              "      <td>22.09</td>\n",
              "      <td>4</td>\n",
              "      <td>8</td>\n",
              "      <td>45</td>\n",
              "      <td>11</td>\n",
              "      <td>3</td>\n",
              "      <td>0.00</td>\n",
              "      <td>0.14</td>\n",
              "      <td>18.2</td>\n",
              "      <td>2</td>\n",
              "      <td>0</td>\n",
              "      <td>0</td>\n",
              "      <td>1</td>\n",
              "      <td>0.222222</td>\n",
              "      <td>0.314961</td>\n",
              "      <td>0</td>\n",
              "    </tr>\n",
              "    <tr>\n",
              "      <th>31</th>\n",
              "      <td>2.90</td>\n",
              "      <td>9.39</td>\n",
              "      <td>5</td>\n",
              "      <td>10</td>\n",
              "      <td>55</td>\n",
              "      <td>13</td>\n",
              "      <td>1</td>\n",
              "      <td>0.00</td>\n",
              "      <td>0.00</td>\n",
              "      <td>12.3</td>\n",
              "      <td>2</td>\n",
              "      <td>0</td>\n",
              "      <td>0</td>\n",
              "      <td>1</td>\n",
              "      <td>0.444444</td>\n",
              "      <td>0.198819</td>\n",
              "      <td>0</td>\n",
              "    </tr>\n",
              "    <tr>\n",
              "      <th>34</th>\n",
              "      <td>3.78</td>\n",
              "      <td>27.16</td>\n",
              "      <td>2</td>\n",
              "      <td>10</td>\n",
              "      <td>55</td>\n",
              "      <td>12</td>\n",
              "      <td>3</td>\n",
              "      <td>0.04</td>\n",
              "      <td>0.04</td>\n",
              "      <td>11.3</td>\n",
              "      <td>2</td>\n",
              "      <td>0</td>\n",
              "      <td>0</td>\n",
              "      <td>1</td>\n",
              "      <td>0.444444</td>\n",
              "      <td>0.179134</td>\n",
              "      <td>0</td>\n",
              "    </tr>\n",
              "    <tr>\n",
              "      <th>35</th>\n",
              "      <td>2.76</td>\n",
              "      <td>14.03</td>\n",
              "      <td>3</td>\n",
              "      <td>8</td>\n",
              "      <td>50</td>\n",
              "      <td>12</td>\n",
              "      <td>4</td>\n",
              "      <td>0.07</td>\n",
              "      <td>0.00</td>\n",
              "      <td>16.3</td>\n",
              "      <td>2</td>\n",
              "      <td>0</td>\n",
              "      <td>0</td>\n",
              "      <td>1</td>\n",
              "      <td>0.222222</td>\n",
              "      <td>0.277559</td>\n",
              "      <td>0</td>\n",
              "    </tr>\n",
              "    <tr>\n",
              "      <th>38</th>\n",
              "      <td>4.12</td>\n",
              "      <td>12.91</td>\n",
              "      <td>1</td>\n",
              "      <td>10</td>\n",
              "      <td>55</td>\n",
              "      <td>12</td>\n",
              "      <td>3</td>\n",
              "      <td>0.00</td>\n",
              "      <td>0.00</td>\n",
              "      <td>10.4</td>\n",
              "      <td>2</td>\n",
              "      <td>0</td>\n",
              "      <td>0</td>\n",
              "      <td>0</td>\n",
              "      <td>0.444444</td>\n",
              "      <td>0.161417</td>\n",
              "      <td>0</td>\n",
              "    </tr>\n",
              "  </tbody>\n",
              "</table>\n",
              "</div>\n",
              "    <div class=\"colab-df-buttons\">\n",
              "\n",
              "  <div class=\"colab-df-container\">\n",
              "    <button class=\"colab-df-convert\" onclick=\"convertToInteractive('df-4324833b-06e9-47a7-ba1f-ad7df17db5fa')\"\n",
              "            title=\"Convert this dataframe to an interactive table.\"\n",
              "            style=\"display:none;\">\n",
              "\n",
              "  <svg xmlns=\"http://www.w3.org/2000/svg\" height=\"24px\" viewBox=\"0 -960 960 960\">\n",
              "    <path d=\"M120-120v-720h720v720H120Zm60-500h600v-160H180v160Zm220 220h160v-160H400v160Zm0 220h160v-160H400v160ZM180-400h160v-160H180v160Zm440 0h160v-160H620v160ZM180-180h160v-160H180v160Zm440 0h160v-160H620v160Z\"/>\n",
              "  </svg>\n",
              "    </button>\n",
              "\n",
              "  <style>\n",
              "    .colab-df-container {\n",
              "      display:flex;\n",
              "      gap: 12px;\n",
              "    }\n",
              "\n",
              "    .colab-df-convert {\n",
              "      background-color: #E8F0FE;\n",
              "      border: none;\n",
              "      border-radius: 50%;\n",
              "      cursor: pointer;\n",
              "      display: none;\n",
              "      fill: #1967D2;\n",
              "      height: 32px;\n",
              "      padding: 0 0 0 0;\n",
              "      width: 32px;\n",
              "    }\n",
              "\n",
              "    .colab-df-convert:hover {\n",
              "      background-color: #E2EBFA;\n",
              "      box-shadow: 0px 1px 2px rgba(60, 64, 67, 0.3), 0px 1px 3px 1px rgba(60, 64, 67, 0.15);\n",
              "      fill: #174EA6;\n",
              "    }\n",
              "\n",
              "    .colab-df-buttons div {\n",
              "      margin-bottom: 4px;\n",
              "    }\n",
              "\n",
              "    [theme=dark] .colab-df-convert {\n",
              "      background-color: #3B4455;\n",
              "      fill: #D2E3FC;\n",
              "    }\n",
              "\n",
              "    [theme=dark] .colab-df-convert:hover {\n",
              "      background-color: #434B5C;\n",
              "      box-shadow: 0px 1px 3px 1px rgba(0, 0, 0, 0.15);\n",
              "      filter: drop-shadow(0px 1px 2px rgba(0, 0, 0, 0.3));\n",
              "      fill: #FFFFFF;\n",
              "    }\n",
              "  </style>\n",
              "\n",
              "    <script>\n",
              "      const buttonEl =\n",
              "        document.querySelector('#df-4324833b-06e9-47a7-ba1f-ad7df17db5fa button.colab-df-convert');\n",
              "      buttonEl.style.display =\n",
              "        google.colab.kernel.accessAllowed ? 'block' : 'none';\n",
              "\n",
              "      async function convertToInteractive(key) {\n",
              "        const element = document.querySelector('#df-4324833b-06e9-47a7-ba1f-ad7df17db5fa');\n",
              "        const dataTable =\n",
              "          await google.colab.kernel.invokeFunction('convertToInteractive',\n",
              "                                                    [key], {});\n",
              "        if (!dataTable) return;\n",
              "\n",
              "        const docLinkHtml = 'Like what you see? Visit the ' +\n",
              "          '<a target=\"_blank\" href=https://colab.research.google.com/notebooks/data_table.ipynb>data table notebook</a>'\n",
              "          + ' to learn more about interactive tables.';\n",
              "        element.innerHTML = '';\n",
              "        dataTable['output_type'] = 'display_data';\n",
              "        await google.colab.output.renderOutput(dataTable, element);\n",
              "        const docLink = document.createElement('div');\n",
              "        docLink.innerHTML = docLinkHtml;\n",
              "        element.appendChild(docLink);\n",
              "      }\n",
              "    </script>\n",
              "  </div>\n",
              "\n",
              "\n",
              "<div id=\"df-4bc3a257-3efe-4b41-8bad-c03640f7f0d9\">\n",
              "  <button class=\"colab-df-quickchart\" onclick=\"quickchart('df-4bc3a257-3efe-4b41-8bad-c03640f7f0d9')\"\n",
              "            title=\"Suggest charts\"\n",
              "            style=\"display:none;\">\n",
              "\n",
              "<svg xmlns=\"http://www.w3.org/2000/svg\" height=\"24px\"viewBox=\"0 0 24 24\"\n",
              "     width=\"24px\">\n",
              "    <g>\n",
              "        <path d=\"M19 3H5c-1.1 0-2 .9-2 2v14c0 1.1.9 2 2 2h14c1.1 0 2-.9 2-2V5c0-1.1-.9-2-2-2zM9 17H7v-7h2v7zm4 0h-2V7h2v10zm4 0h-2v-4h2v4z\"/>\n",
              "    </g>\n",
              "</svg>\n",
              "  </button>\n",
              "\n",
              "<style>\n",
              "  .colab-df-quickchart {\n",
              "      --bg-color: #E8F0FE;\n",
              "      --fill-color: #1967D2;\n",
              "      --hover-bg-color: #E2EBFA;\n",
              "      --hover-fill-color: #174EA6;\n",
              "      --disabled-fill-color: #AAA;\n",
              "      --disabled-bg-color: #DDD;\n",
              "  }\n",
              "\n",
              "  [theme=dark] .colab-df-quickchart {\n",
              "      --bg-color: #3B4455;\n",
              "      --fill-color: #D2E3FC;\n",
              "      --hover-bg-color: #434B5C;\n",
              "      --hover-fill-color: #FFFFFF;\n",
              "      --disabled-bg-color: #3B4455;\n",
              "      --disabled-fill-color: #666;\n",
              "  }\n",
              "\n",
              "  .colab-df-quickchart {\n",
              "    background-color: var(--bg-color);\n",
              "    border: none;\n",
              "    border-radius: 50%;\n",
              "    cursor: pointer;\n",
              "    display: none;\n",
              "    fill: var(--fill-color);\n",
              "    height: 32px;\n",
              "    padding: 0;\n",
              "    width: 32px;\n",
              "  }\n",
              "\n",
              "  .colab-df-quickchart:hover {\n",
              "    background-color: var(--hover-bg-color);\n",
              "    box-shadow: 0 1px 2px rgba(60, 64, 67, 0.3), 0 1px 3px 1px rgba(60, 64, 67, 0.15);\n",
              "    fill: var(--button-hover-fill-color);\n",
              "  }\n",
              "\n",
              "  .colab-df-quickchart-complete:disabled,\n",
              "  .colab-df-quickchart-complete:disabled:hover {\n",
              "    background-color: var(--disabled-bg-color);\n",
              "    fill: var(--disabled-fill-color);\n",
              "    box-shadow: none;\n",
              "  }\n",
              "\n",
              "  .colab-df-spinner {\n",
              "    border: 2px solid var(--fill-color);\n",
              "    border-color: transparent;\n",
              "    border-bottom-color: var(--fill-color);\n",
              "    animation:\n",
              "      spin 1s steps(1) infinite;\n",
              "  }\n",
              "\n",
              "  @keyframes spin {\n",
              "    0% {\n",
              "      border-color: transparent;\n",
              "      border-bottom-color: var(--fill-color);\n",
              "      border-left-color: var(--fill-color);\n",
              "    }\n",
              "    20% {\n",
              "      border-color: transparent;\n",
              "      border-left-color: var(--fill-color);\n",
              "      border-top-color: var(--fill-color);\n",
              "    }\n",
              "    30% {\n",
              "      border-color: transparent;\n",
              "      border-left-color: var(--fill-color);\n",
              "      border-top-color: var(--fill-color);\n",
              "      border-right-color: var(--fill-color);\n",
              "    }\n",
              "    40% {\n",
              "      border-color: transparent;\n",
              "      border-right-color: var(--fill-color);\n",
              "      border-top-color: var(--fill-color);\n",
              "    }\n",
              "    60% {\n",
              "      border-color: transparent;\n",
              "      border-right-color: var(--fill-color);\n",
              "    }\n",
              "    80% {\n",
              "      border-color: transparent;\n",
              "      border-right-color: var(--fill-color);\n",
              "      border-bottom-color: var(--fill-color);\n",
              "    }\n",
              "    90% {\n",
              "      border-color: transparent;\n",
              "      border-bottom-color: var(--fill-color);\n",
              "    }\n",
              "  }\n",
              "</style>\n",
              "\n",
              "  <script>\n",
              "    async function quickchart(key) {\n",
              "      const quickchartButtonEl =\n",
              "        document.querySelector('#' + key + ' button');\n",
              "      quickchartButtonEl.disabled = true;  // To prevent multiple clicks.\n",
              "      quickchartButtonEl.classList.add('colab-df-spinner');\n",
              "      try {\n",
              "        const charts = await google.colab.kernel.invokeFunction(\n",
              "            'suggestCharts', [key], {});\n",
              "      } catch (error) {\n",
              "        console.error('Error during call to suggestCharts:', error);\n",
              "      }\n",
              "      quickchartButtonEl.classList.remove('colab-df-spinner');\n",
              "      quickchartButtonEl.classList.add('colab-df-quickchart-complete');\n",
              "    }\n",
              "    (() => {\n",
              "      let quickchartButtonEl =\n",
              "        document.querySelector('#df-4bc3a257-3efe-4b41-8bad-c03640f7f0d9 button');\n",
              "      quickchartButtonEl.style.display =\n",
              "        google.colab.kernel.accessAllowed ? 'block' : 'none';\n",
              "    })();\n",
              "  </script>\n",
              "</div>\n",
              "    </div>\n",
              "  </div>\n"
            ]
          },
          "metadata": {},
          "execution_count": 37
        }
      ]
    },
    {
      "cell_type": "code",
      "source": [
        "# Average of Rate in Cluster 0:\n",
        "cluster0['Rate'].mean()"
      ],
      "metadata": {
        "colab": {
          "base_uri": "https://localhost:8080/"
        },
        "id": "hM6EmdBm-TOA",
        "outputId": "f089f51a-3aa5-499a-d9f8-e30b801fa216"
      },
      "execution_count": null,
      "outputs": [
        {
          "output_type": "execute_result",
          "data": {
            "text/plain": [
              "3.5204347826086964"
            ]
          },
          "metadata": {},
          "execution_count": 38
        }
      ]
    },
    {
      "cell_type": "code",
      "source": [
        "cluster1 = highway[(highway['Label'] == 1)]\n",
        "cluster2 = highway[(highway['Label'] == 2)]"
      ],
      "metadata": {
        "id": "HGcWQvlm_zWn"
      },
      "execution_count": null,
      "outputs": []
    },
    {
      "cell_type": "code",
      "source": [
        "print(\"Mean of cluster 1 is:\", cluster1['Rate'].mean())\n",
        "print(\"Mean of cluster 2 is:\", cluster2['Rate'].mean())"
      ],
      "metadata": {
        "colab": {
          "base_uri": "https://localhost:8080/"
        },
        "id": "tj56d3j1AKta",
        "outputId": "b82c9359-c380-41f6-d11c-d2811470584e"
      },
      "execution_count": null,
      "outputs": [
        {
          "output_type": "stream",
          "name": "stdout",
          "text": [
            "Mean of cluster 1 is: 2.9127272727272726\n",
            "Mean of cluster 2 is: 8.078\n"
          ]
        }
      ]
    }
  ]
}